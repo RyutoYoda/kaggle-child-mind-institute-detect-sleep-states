{
 "cells": [
  {
   "cell_type": "markdown",
   "id": "23801d3a",
   "metadata": {
    "papermill": {
     "duration": 0.004782,
     "end_time": "2023-11-10T18:17:37.027793",
     "exception": false,
     "start_time": "2023-11-10T18:17:37.023011",
     "status": "completed"
    },
    "tags": []
   },
   "source": [
    "See the following repositories for details  \n",
    "https://github.com/tubo213/kaggle-child-mind-institute-detect-sleep-states"
   ]
  },
  {
   "cell_type": "markdown",
   "id": "b227e445",
   "metadata": {
    "papermill": {
     "duration": 0.00394,
     "end_time": "2023-11-10T18:17:37.036152",
     "exception": false,
     "start_time": "2023-11-10T18:17:37.032212",
     "status": "completed"
    },
    "tags": []
   },
   "source": [
    "# Install additional libraries"
   ]
  },
  {
   "cell_type": "code",
   "execution_count": 1,
   "id": "0d4d4712",
   "metadata": {
    "execution": {
     "iopub.execute_input": "2023-11-10T18:17:37.046713Z",
     "iopub.status.busy": "2023-11-10T18:17:37.045934Z",
     "iopub.status.idle": "2023-11-10T18:17:59.350254Z",
     "shell.execute_reply": "2023-11-10T18:17:59.349104Z"
    },
    "papermill": {
     "duration": 22.312707,
     "end_time": "2023-11-10T18:17:59.352848",
     "exception": false,
     "start_time": "2023-11-10T18:17:37.040141",
     "status": "completed"
    },
    "tags": []
   },
   "outputs": [
    {
     "name": "stdout",
     "output_type": "stream",
     "text": [
      "Looking in links: /kaggle/input/ex-library\r\n",
      "Processing /kaggle/input/ex-library/hydra_core-1.3.2-py3-none-any.whl\r\n",
      "Processing /kaggle/input/ex-library/segmentation_models_pytorch-0.3.3-py3-none-any.whl\r\n",
      "Requirement already satisfied: torchvision>=0.5.0 in /opt/conda/lib/python3.10/site-packages (from segmentation_models_pytorch==0.3.3) (0.15.1)\r\n",
      "Processing /kaggle/input/ex-library/pretrainedmodels-0.7.4.tar.gz (from segmentation_models_pytorch==0.3.3)\r\n",
      "  Preparing metadata (setup.py) ... \u001b[?25l-\b \bdone\r\n",
      "\u001b[?25hProcessing /kaggle/input/ex-library/efficientnet_pytorch-0.7.1.tar.gz (from segmentation_models_pytorch==0.3.3)\r\n",
      "  Preparing metadata (setup.py) ... \u001b[?25ldone\r\n",
      "\u001b[?25hProcessing /kaggle/input/ex-library/timm-0.9.2-py3-none-any.whl (from segmentation_models_pytorch==0.3.3)\r\n",
      "Requirement already satisfied: tqdm in /opt/conda/lib/python3.10/site-packages (from segmentation_models_pytorch==0.3.3) (4.66.1)\r\n",
      "Requirement already satisfied: pillow in /opt/conda/lib/python3.10/site-packages (from segmentation_models_pytorch==0.3.3) (9.5.0)\r\n",
      "Requirement already satisfied: torch in /opt/conda/lib/python3.10/site-packages (from efficientnet-pytorch==0.7.1->segmentation_models_pytorch==0.3.3) (2.0.0)\r\n",
      "Processing /kaggle/input/ex-library/munch-4.0.0-py2.py3-none-any.whl (from pretrainedmodels==0.7.4->segmentation_models_pytorch==0.3.3)\r\n",
      "Requirement already satisfied: pyyaml in /opt/conda/lib/python3.10/site-packages (from timm==0.9.2->segmentation_models_pytorch==0.3.3) (6.0)\r\n",
      "Requirement already satisfied: huggingface-hub in /opt/conda/lib/python3.10/site-packages (from timm==0.9.2->segmentation_models_pytorch==0.3.3) (0.16.4)\r\n",
      "Requirement already satisfied: safetensors in /opt/conda/lib/python3.10/site-packages (from timm==0.9.2->segmentation_models_pytorch==0.3.3) (0.3.3)\r\n",
      "Processing /kaggle/input/ex-library/omegaconf-2.3.0-py3-none-any.whl (from hydra-core)\r\n",
      "Processing /kaggle/input/ex-library/antlr4-python3-runtime-4.9.3.tar.gz (from hydra-core)\r\n",
      "  Preparing metadata (setup.py) ... \u001b[?25ldone\r\n",
      "\u001b[?25hRequirement already satisfied: packaging in /opt/conda/lib/python3.10/site-packages (from hydra-core) (21.3)\r\n",
      "Requirement already satisfied: numpy in /opt/conda/lib/python3.10/site-packages (from torchvision>=0.5.0->segmentation_models_pytorch==0.3.3) (1.23.5)\r\n",
      "Requirement already satisfied: requests in /opt/conda/lib/python3.10/site-packages (from torchvision>=0.5.0->segmentation_models_pytorch==0.3.3) (2.31.0)\r\n",
      "Requirement already satisfied: pyparsing!=3.0.5,>=2.0.2 in /opt/conda/lib/python3.10/site-packages (from packaging->hydra-core) (3.0.9)\r\n",
      "Requirement already satisfied: filelock in /opt/conda/lib/python3.10/site-packages (from torch->efficientnet-pytorch==0.7.1->segmentation_models_pytorch==0.3.3) (3.12.2)\r\n",
      "Requirement already satisfied: typing-extensions in /opt/conda/lib/python3.10/site-packages (from torch->efficientnet-pytorch==0.7.1->segmentation_models_pytorch==0.3.3) (4.6.3)\r\n",
      "Requirement already satisfied: sympy in /opt/conda/lib/python3.10/site-packages (from torch->efficientnet-pytorch==0.7.1->segmentation_models_pytorch==0.3.3) (1.12)\r\n",
      "Requirement already satisfied: networkx in /opt/conda/lib/python3.10/site-packages (from torch->efficientnet-pytorch==0.7.1->segmentation_models_pytorch==0.3.3) (3.1)\r\n",
      "Requirement already satisfied: jinja2 in /opt/conda/lib/python3.10/site-packages (from torch->efficientnet-pytorch==0.7.1->segmentation_models_pytorch==0.3.3) (3.1.2)\r\n",
      "Requirement already satisfied: fsspec in /opt/conda/lib/python3.10/site-packages (from huggingface-hub->timm==0.9.2->segmentation_models_pytorch==0.3.3) (2023.9.0)\r\n",
      "Requirement already satisfied: charset-normalizer<4,>=2 in /opt/conda/lib/python3.10/site-packages (from requests->torchvision>=0.5.0->segmentation_models_pytorch==0.3.3) (3.1.0)\r\n",
      "Requirement already satisfied: idna<4,>=2.5 in /opt/conda/lib/python3.10/site-packages (from requests->torchvision>=0.5.0->segmentation_models_pytorch==0.3.3) (3.4)\r\n",
      "Requirement already satisfied: urllib3<3,>=1.21.1 in /opt/conda/lib/python3.10/site-packages (from requests->torchvision>=0.5.0->segmentation_models_pytorch==0.3.3) (1.26.15)\r\n",
      "Requirement already satisfied: certifi>=2017.4.17 in /opt/conda/lib/python3.10/site-packages (from requests->torchvision>=0.5.0->segmentation_models_pytorch==0.3.3) (2023.7.22)\r\n",
      "Requirement already satisfied: MarkupSafe>=2.0 in /opt/conda/lib/python3.10/site-packages (from jinja2->torch->efficientnet-pytorch==0.7.1->segmentation_models_pytorch==0.3.3) (2.1.3)\r\n",
      "Requirement already satisfied: mpmath>=0.19 in /opt/conda/lib/python3.10/site-packages (from sympy->torch->efficientnet-pytorch==0.7.1->segmentation_models_pytorch==0.3.3) (1.3.0)\r\n",
      "Building wheels for collected packages: efficientnet-pytorch, pretrainedmodels, antlr4-python3-runtime\r\n",
      "  Building wheel for efficientnet-pytorch (setup.py) ... \u001b[?25l-\b \bdone\r\n",
      "\u001b[?25h  Created wheel for efficientnet-pytorch: filename=efficientnet_pytorch-0.7.1-py3-none-any.whl size=16427 sha256=8c1bfdd4c21c9349617cf1f2f665550a212da0888a35ae8322e13f6ea803cbd1\r\n",
      "  Stored in directory: /root/.cache/pip/wheels/25/42/08/c312f1b741dfff3f2661c53bd056f4f9683cebbb9fe228b1a5\r\n",
      "  Building wheel for pretrainedmodels (setup.py) ... \u001b[?25l-\b \b\\\b \bdone\r\n",
      "\u001b[?25h  Created wheel for pretrainedmodels: filename=pretrainedmodels-0.7.4-py3-none-any.whl size=60945 sha256=d0e3846adf882b9d45fec619e30095e88ed68af2d65fb4dbee8632fbd43d3a65\r\n",
      "  Stored in directory: /root/.cache/pip/wheels/4f/02/1f/a5cd4682c2d04e69a0c748116ed4f366e169592fdf08a72b55\r\n",
      "  Building wheel for antlr4-python3-runtime (setup.py) ... \u001b[?25l-\b \bdone\r\n",
      "\u001b[?25h  Created wheel for antlr4-python3-runtime: filename=antlr4_python3_runtime-4.9.3-py3-none-any.whl size=144554 sha256=fc7144bb90b2a1270e5ea53a018f87f8ebd473dc4b120d4992e1fefbc992fafb\r\n",
      "  Stored in directory: /root/.cache/pip/wheels/bf/5c/34/cdd531f2be0298fb3c66c4db6dff71ec7385fc1fd2d5d60436\r\n",
      "Successfully built efficientnet-pytorch pretrainedmodels antlr4-python3-runtime\r\n",
      "Installing collected packages: antlr4-python3-runtime, omegaconf, munch, hydra-core, efficientnet-pytorch, timm, pretrainedmodels, segmentation_models_pytorch\r\n",
      "  Attempting uninstall: timm\r\n",
      "    Found existing installation: timm 0.9.7\r\n",
      "    Uninstalling timm-0.9.7:\r\n",
      "      Successfully uninstalled timm-0.9.7\r\n",
      "Successfully installed antlr4-python3-runtime-4.9.3 efficientnet-pytorch-0.7.1 hydra-core-1.3.2 munch-4.0.0 omegaconf-2.3.0 pretrainedmodels-0.7.4 segmentation_models_pytorch-0.3.3 timm-0.9.2\r\n"
     ]
    }
   ],
   "source": [
    "!pip install hydra-core segmentation_models_pytorch==0.3.3 --no-index --find-links=/kaggle/input/ex-library"
   ]
  },
  {
   "cell_type": "code",
   "execution_count": 2,
   "id": "e66922e4",
   "metadata": {
    "execution": {
     "iopub.execute_input": "2023-11-10T18:17:59.366975Z",
     "iopub.status.busy": "2023-11-10T18:17:59.366656Z",
     "iopub.status.idle": "2023-11-10T18:17:59.404344Z",
     "shell.execute_reply": "2023-11-10T18:17:59.403510Z"
    },
    "papermill": {
     "duration": 0.047193,
     "end_time": "2023-11-10T18:17:59.406630",
     "exception": false,
     "start_time": "2023-11-10T18:17:59.359437",
     "status": "completed"
    },
    "tags": []
   },
   "outputs": [
    {
     "name": "stdout",
     "output_type": "stream",
     "text": [
      "/kaggle/input/cmi-code\n"
     ]
    }
   ],
   "source": [
    "%cd /kaggle/input/cmi-code/"
   ]
  },
  {
   "cell_type": "markdown",
   "id": "f682cce4",
   "metadata": {
    "papermill": {
     "duration": 0.007792,
     "end_time": "2023-11-10T18:17:59.422792",
     "exception": false,
     "start_time": "2023-11-10T18:17:59.415000",
     "status": "completed"
    },
    "tags": []
   },
   "source": [
    "# Config"
   ]
  },
  {
   "cell_type": "code",
   "execution_count": 3,
   "id": "a560a599",
   "metadata": {
    "execution": {
     "iopub.execute_input": "2023-11-10T18:17:59.436575Z",
     "iopub.status.busy": "2023-11-10T18:17:59.436054Z",
     "iopub.status.idle": "2023-11-10T18:17:59.440416Z",
     "shell.execute_reply": "2023-11-10T18:17:59.439599Z"
    },
    "papermill": {
     "duration": 0.013369,
     "end_time": "2023-11-10T18:17:59.442394",
     "exception": false,
     "start_time": "2023-11-10T18:17:59.429025",
     "status": "completed"
    },
    "tags": []
   },
   "outputs": [],
   "source": [
    "# Config\n",
    "DURATION = 5760\n",
    "DOWNSAMPLE_RATE = 2\n",
    "PHASE = 'test'\n",
    "EXP_NAME = 'exp001'"
   ]
  },
  {
   "cell_type": "markdown",
   "id": "c97fc0b9",
   "metadata": {
    "papermill": {
     "duration": 0.006297,
     "end_time": "2023-11-10T18:17:59.454809",
     "exception": false,
     "start_time": "2023-11-10T18:17:59.448512",
     "status": "completed"
    },
    "tags": []
   },
   "source": [
    "# Preprocess"
   ]
  },
  {
   "cell_type": "code",
   "execution_count": 4,
   "id": "ff6a3435",
   "metadata": {
    "execution": {
     "iopub.execute_input": "2023-11-10T18:17:59.468097Z",
     "iopub.status.busy": "2023-11-10T18:17:59.467841Z",
     "iopub.status.idle": "2023-11-10T18:18:02.714345Z",
     "shell.execute_reply": "2023-11-10T18:18:02.713297Z"
    },
    "papermill": {
     "duration": 3.25597,
     "end_time": "2023-11-10T18:18:02.716943",
     "exception": false,
     "start_time": "2023-11-10T18:17:59.460973",
     "status": "completed"
    },
    "tags": []
   },
   "outputs": [
    {
     "name": "stdout",
     "output_type": "stream",
     "text": [
      "shape: (5, 5)\r\n",
      "┌──────────────┬──────────┬───────────┬─────────────────────────┬────────────┐\r\n",
      "│ series_id    ┆ anglez   ┆ enmo      ┆ timestamp               ┆ anglez_rad │\r\n",
      "│ ---          ┆ ---      ┆ ---       ┆ ---                     ┆ ---        │\r\n",
      "│ str          ┆ f32      ┆ f32       ┆ datetime[μs, UTC]       ┆ f32        │\r\n",
      "╞══════════════╪══════════╪═══════════╪═════════════════════════╪════════════╡\r\n",
      "│ 038441c925bb ┆ 0.322257 ┆ -0.192627 ┆ 2018-08-14 19:30:00 UTC ┆ 0.046019   │\r\n",
      "│ 038441c925bb ┆ 0.32226  ┆ -0.194591 ┆ 2018-08-14 19:30:05 UTC ┆ 0.046021   │\r\n",
      "│ 038441c925bb ┆ 0.322266 ┆ -0.193609 ┆ 2018-08-14 19:30:10 UTC ┆ 0.046024   │\r\n",
      "│ 038441c925bb ┆ 0.32226  ┆ -0.196555 ┆ 2018-08-14 19:30:15 UTC ┆ 0.046021   │\r\n",
      "│ 038441c925bb ┆ 0.32226  ┆ -0.194591 ┆ 2018-08-14 19:30:20 UTC ┆ 0.046021   │\r\n",
      "└──────────────┴──────────┴───────────┴─────────────────────────┴────────────┘\r\n",
      "['series_id', 'anglez', 'enmo', 'timestamp', 'anglez_rad']\r\n",
      "[0.1GB(+0.0GB):0.2sec] Load series \r\n",
      "100%|█████████████████████████████████████████████| 3/3 [00:00<00:00, 66.02it/s]\r\n",
      "[0.1GB(+0.0GB):0.1sec] Save features \r\n"
     ]
    }
   ],
   "source": [
    "!python -m run.prepare_data dir=kaggle phase=$PHASE"
   ]
  },
  {
   "cell_type": "markdown",
   "id": "eca2a5d2",
   "metadata": {
    "papermill": {
     "duration": 0.006456,
     "end_time": "2023-11-10T18:18:02.730198",
     "exception": false,
     "start_time": "2023-11-10T18:18:02.723742",
     "status": "completed"
    },
    "tags": []
   },
   "source": [
    "# Inference"
   ]
  },
  {
   "cell_type": "code",
   "execution_count": 5,
   "id": "0016a7b8",
   "metadata": {
    "execution": {
     "iopub.execute_input": "2023-11-10T18:18:02.744527Z",
     "iopub.status.busy": "2023-11-10T18:18:02.744187Z",
     "iopub.status.idle": "2023-11-10T18:18:27.781631Z",
     "shell.execute_reply": "2023-11-10T18:18:27.780598Z"
    },
    "papermill": {
     "duration": 25.047592,
     "end_time": "2023-11-10T18:18:27.784125",
     "exception": false,
     "start_time": "2023-11-10T18:18:02.736533",
     "status": "completed"
    },
    "tags": []
   },
   "outputs": [
    {
     "name": "stdout",
     "output_type": "stream",
     "text": [
      "/opt/conda/lib/python3.10/site-packages/scipy/__init__.py:146: UserWarning: A NumPy version >=1.16.5 and <1.23.0 is required for this version of SciPy (detected version 1.23.5\r\n",
      "  warnings.warn(f\"A NumPy version >={np_minversion} and <{np_maxversion}\"\r\n",
      "hydra:\r\n",
      "  run:\r\n",
      "    dir: ${dir.output_dir}/${hydra.job.name}/${exp_name}/single\r\n",
      "  sweep:\r\n",
      "    dir: ${dir.output_dir}/${hydra.job.name}/${exp_name}\r\n",
      "    subdir: run${hydra.job.num}\r\n",
      "  launcher:\r\n",
      "    _target_: hydra._internal.core_plugins.basic_launcher.BasicLauncher\r\n",
      "  sweeper:\r\n",
      "    _target_: hydra._internal.core_plugins.basic_sweeper.BasicSweeper\r\n",
      "    max_batch_size: null\r\n",
      "    params: null\r\n",
      "  hydra_logging:\r\n",
      "    version: 1\r\n",
      "    formatters:\r\n",
      "      simple:\r\n",
      "        format: '[%(asctime)s][HYDRA] %(message)s'\r\n",
      "    handlers:\r\n",
      "      console:\r\n",
      "        class: logging.StreamHandler\r\n",
      "        formatter: simple\r\n",
      "        stream: ext://sys.stdout\r\n",
      "    root:\r\n",
      "      level: INFO\r\n",
      "      handlers:\r\n",
      "      - console\r\n",
      "    loggers:\r\n",
      "      logging_example:\r\n",
      "        level: DEBUG\r\n",
      "    disable_existing_loggers: false\r\n",
      "  job_logging:\r\n",
      "    version: 1\r\n",
      "    formatters:\r\n",
      "      simple:\r\n",
      "        format: '[%(asctime)s][%(name)s][%(levelname)s] - %(message)s'\r\n",
      "    handlers:\r\n",
      "      console:\r\n",
      "        class: logging.StreamHandler\r\n",
      "        formatter: simple\r\n",
      "        stream: ext://sys.stdout\r\n",
      "      file:\r\n",
      "        class: logging.FileHandler\r\n",
      "        formatter: simple\r\n",
      "        filename: ${hydra.runtime.output_dir}/${hydra.job.name}.log\r\n",
      "    root:\r\n",
      "      level: INFO\r\n",
      "      handlers:\r\n",
      "      - console\r\n",
      "      - file\r\n",
      "    disable_existing_loggers: false\r\n",
      "  env: {}\r\n",
      "  mode: null\r\n",
      "  searchpath: []\r\n",
      "  callbacks: {}\r\n",
      "  output_subdir: .hydra\r\n",
      "  overrides:\r\n",
      "    hydra: []\r\n",
      "    task:\r\n",
      "    - dir=kaggle\r\n",
      "    - phase=test\r\n",
      "  job:\r\n",
      "    name: inference\r\n",
      "    chdir: true\r\n",
      "    override_dirname: dir=kaggle,phase=test\r\n",
      "    id: ???\r\n",
      "    num: ???\r\n",
      "    config_name: inference\r\n",
      "    env_set: {}\r\n",
      "    env_copy: []\r\n",
      "    config:\r\n",
      "      override_dirname:\r\n",
      "        kv_sep: '='\r\n",
      "        item_sep: ','\r\n",
      "        exclude_keys: []\r\n",
      "  runtime:\r\n",
      "    version: 1.3.2\r\n",
      "    version_base: '1.2'\r\n",
      "    cwd: /kaggle/input/cmi-code\r\n",
      "    config_sources:\r\n",
      "    - path: hydra.conf\r\n",
      "      schema: pkg\r\n",
      "      provider: hydra\r\n",
      "    - path: /kaggle/input/cmi-code/run/conf\r\n",
      "      schema: file\r\n",
      "      provider: main\r\n",
      "    - path: ''\r\n",
      "      schema: structured\r\n",
      "      provider: schema\r\n",
      "    output_dir: ???\r\n",
      "    choices:\r\n",
      "      decoder: UNet1DDecoder\r\n",
      "      feature_extractor: CNNSpectrogram\r\n",
      "      model: Spec2DCNN\r\n",
      "      dataset: seg\r\n",
      "      dir: kaggle\r\n",
      "      hydra/env: default\r\n",
      "      hydra/callbacks: null\r\n",
      "      hydra/job_logging: default\r\n",
      "      hydra/hydra_logging: default\r\n",
      "      hydra/hydra_help: default\r\n",
      "      hydra/help: default\r\n",
      "      hydra/sweeper: basic\r\n",
      "      hydra/launcher: basic\r\n",
      "      hydra/output: default\r\n",
      "  verbose: false\r\n"
     ]
    }
   ],
   "source": [
    "!python -m run.inference --cfg hydra dir=kaggle phase=$PHASE"
   ]
  },
  {
   "cell_type": "code",
   "execution_count": 6,
   "id": "7c020297",
   "metadata": {
    "execution": {
     "iopub.execute_input": "2023-11-10T18:18:27.799677Z",
     "iopub.status.busy": "2023-11-10T18:18:27.799240Z",
     "iopub.status.idle": "2023-11-10T18:18:56.474217Z",
     "shell.execute_reply": "2023-11-10T18:18:56.473222Z"
    },
    "papermill": {
     "duration": 28.685079,
     "end_time": "2023-11-10T18:18:56.476694",
     "exception": false,
     "start_time": "2023-11-10T18:18:27.791615",
     "status": "completed"
    },
    "tags": []
   },
   "outputs": [
    {
     "name": "stdout",
     "output_type": "stream",
     "text": [
      "/opt/conda/lib/python3.10/site-packages/scipy/__init__.py:146: UserWarning: A NumPy version >=1.16.5 and <1.23.0 is required for this version of SciPy (detected version 1.23.5\r\n",
      "  warnings.warn(f\"A NumPy version >={np_minversion} and <{np_maxversion}\"\r\n",
      "[2023-11-10 18:18:39,631][lightning_fabric.utilities.seed][INFO] - Global seed set to 42\r\n",
      "[1.5GB(+0.0GB):0.0sec] load test dataloader \r\n",
      "load weight from \"/kaggle/input/cmi-model/exp001/single/best_model.pth\"\r\n",
      "[3.6GB(+2.1GB):8.1sec] load model \r\n",
      "inference:   0%|                                          | 0/1 [00:00<?, ?it/s]i =  1\r\n",
      "inference: 100%|██████████████████████████████████| 1/1 [00:06<00:00,  6.35s/it]\r\n",
      "[4.7GB(+1.1GB):6.4sec] inference \r\n",
      "[4.8GB(+0.0GB):0.0sec] make submission \r\n"
     ]
    }
   ],
   "source": [
    "!python -m run.inference\\\n",
    "    dir=kaggle\\\n",
    "    num_workers=2\\\n",
    "    exp_name=$EXP_NAME\\\n",
    "    weight.run_name=single\\\n",
    "    batch_size=64\\\n",
    "    duration=$DURATION\\\n",
    "    downsample_rate=$DOWNSAMPLE_RATE\\\n",
    "    phase=$PHASE"
   ]
  },
  {
   "cell_type": "code",
   "execution_count": 7,
   "id": "b3545ad5",
   "metadata": {
    "execution": {
     "iopub.execute_input": "2023-11-10T18:18:56.494619Z",
     "iopub.status.busy": "2023-11-10T18:18:56.493912Z",
     "iopub.status.idle": "2023-11-10T18:18:58.465958Z",
     "shell.execute_reply": "2023-11-10T18:18:58.464680Z"
    },
    "papermill": {
     "duration": 1.984333,
     "end_time": "2023-11-10T18:18:58.468713",
     "exception": false,
     "start_time": "2023-11-10T18:18:56.484380",
     "status": "completed"
    },
    "tags": []
   },
   "outputs": [],
   "source": [
    "# いらないファイル、フォルダ削除\n",
    "!rm -rf /kaggle/working/processed_data\n",
    "!rm -rf /kaggle/working/output"
   ]
  },
  {
   "cell_type": "code",
   "execution_count": null,
   "id": "61b32666",
   "metadata": {
    "papermill": {
     "duration": 0.007576,
     "end_time": "2023-11-10T18:18:58.484336",
     "exception": false,
     "start_time": "2023-11-10T18:18:58.476760",
     "status": "completed"
    },
    "tags": []
   },
   "outputs": [],
   "source": []
  }
 ],
 "metadata": {
  "kernelspec": {
   "display_name": "Python 3",
   "language": "python",
   "name": "python3"
  },
  "language_info": {
   "codemirror_mode": {
    "name": "ipython",
    "version": 3
   },
   "file_extension": ".py",
   "mimetype": "text/x-python",
   "name": "python",
   "nbconvert_exporter": "python",
   "pygments_lexer": "ipython3",
   "version": "3.10.12"
  },
  "papermill": {
   "default_parameters": {},
   "duration": 85.414334,
   "end_time": "2023-11-10T18:18:58.710783",
   "environment_variables": {},
   "exception": null,
   "input_path": "__notebook__.ipynb",
   "output_path": "__notebook__.ipynb",
   "parameters": {},
   "start_time": "2023-11-10T18:17:33.296449",
   "version": "2.4.0"
  }
 },
 "nbformat": 4,
 "nbformat_minor": 5
}
