{
 "cells": [
  {
   "cell_type": "markdown",
   "id": "70180646",
   "metadata": {
    "papermill": {
     "duration": 0.005324,
     "end_time": "2023-11-10T17:45:38.948594",
     "exception": false,
     "start_time": "2023-11-10T17:45:38.943270",
     "status": "completed"
    },
    "tags": []
   },
   "source": [
    "See the following repositories for details  \n",
    "https://github.com/tubo213/kaggle-child-mind-institute-detect-sleep-states"
   ]
  },
  {
   "cell_type": "code",
   "execution_count": null,
   "id": "8f8a2c4d",
   "metadata": {
    "execution": {
     "iopub.execute_input": "2023-11-09T19:13:30.143912Z",
     "iopub.status.busy": "2023-11-09T19:13:30.143558Z",
     "iopub.status.idle": "2023-11-09T19:13:31.110094Z",
     "shell.execute_reply": "2023-11-09T19:13:31.109066Z",
     "shell.execute_reply.started": "2023-11-09T19:13:30.143887Z"
    },
    "papermill": {
     "duration": 0.00411,
     "end_time": "2023-11-10T17:45:38.957551",
     "exception": false,
     "start_time": "2023-11-10T17:45:38.953441",
     "status": "completed"
    },
    "tags": []
   },
   "outputs": [],
   "source": []
  },
  {
   "cell_type": "markdown",
   "id": "c4928008",
   "metadata": {
    "papermill": {
     "duration": 0.004196,
     "end_time": "2023-11-10T17:45:38.966034",
     "exception": false,
     "start_time": "2023-11-10T17:45:38.961838",
     "status": "completed"
    },
    "tags": []
   },
   "source": [
    "# Install additional libraries"
   ]
  },
  {
   "cell_type": "code",
   "execution_count": 1,
   "id": "313e116e",
   "metadata": {
    "execution": {
     "iopub.execute_input": "2023-11-10T17:45:38.976402Z",
     "iopub.status.busy": "2023-11-10T17:45:38.975772Z",
     "iopub.status.idle": "2023-11-10T17:46:00.071787Z",
     "shell.execute_reply": "2023-11-10T17:46:00.070840Z"
    },
    "papermill": {
     "duration": 21.103458,
     "end_time": "2023-11-10T17:46:00.073896",
     "exception": false,
     "start_time": "2023-11-10T17:45:38.970438",
     "status": "completed"
    },
    "tags": []
   },
   "outputs": [
    {
     "name": "stdout",
     "output_type": "stream",
     "text": [
      "Looking in links: /kaggle/input/ex-library\r\n",
      "Processing /kaggle/input/ex-library/hydra_core-1.3.2-py3-none-any.whl\r\n",
      "Processing /kaggle/input/ex-library/segmentation_models_pytorch-0.3.3-py3-none-any.whl\r\n",
      "Requirement already satisfied: torchvision>=0.5.0 in /opt/conda/lib/python3.10/site-packages (from segmentation_models_pytorch==0.3.3) (0.15.1)\r\n",
      "Processing /kaggle/input/ex-library/pretrainedmodels-0.7.4.tar.gz (from segmentation_models_pytorch==0.3.3)\r\n",
      "  Preparing metadata (setup.py) ... \u001b[?25l-\b \bdone\r\n",
      "\u001b[?25hProcessing /kaggle/input/ex-library/efficientnet_pytorch-0.7.1.tar.gz (from segmentation_models_pytorch==0.3.3)\r\n",
      "  Preparing metadata (setup.py) ... \u001b[?25ldone\r\n",
      "\u001b[?25hProcessing /kaggle/input/ex-library/timm-0.9.2-py3-none-any.whl (from segmentation_models_pytorch==0.3.3)\r\n",
      "Requirement already satisfied: tqdm in /opt/conda/lib/python3.10/site-packages (from segmentation_models_pytorch==0.3.3) (4.66.1)\r\n",
      "Requirement already satisfied: pillow in /opt/conda/lib/python3.10/site-packages (from segmentation_models_pytorch==0.3.3) (9.5.0)\r\n",
      "Requirement already satisfied: torch in /opt/conda/lib/python3.10/site-packages (from efficientnet-pytorch==0.7.1->segmentation_models_pytorch==0.3.3) (2.0.0)\r\n",
      "Processing /kaggle/input/ex-library/munch-4.0.0-py2.py3-none-any.whl (from pretrainedmodels==0.7.4->segmentation_models_pytorch==0.3.3)\r\n",
      "Requirement already satisfied: pyyaml in /opt/conda/lib/python3.10/site-packages (from timm==0.9.2->segmentation_models_pytorch==0.3.3) (6.0)\r\n",
      "Requirement already satisfied: huggingface-hub in /opt/conda/lib/python3.10/site-packages (from timm==0.9.2->segmentation_models_pytorch==0.3.3) (0.16.4)\r\n",
      "Requirement already satisfied: safetensors in /opt/conda/lib/python3.10/site-packages (from timm==0.9.2->segmentation_models_pytorch==0.3.3) (0.3.3)\r\n",
      "Processing /kaggle/input/ex-library/omegaconf-2.3.0-py3-none-any.whl (from hydra-core)\r\n",
      "Processing /kaggle/input/ex-library/antlr4-python3-runtime-4.9.3.tar.gz (from hydra-core)\r\n",
      "  Preparing metadata (setup.py) ... \u001b[?25ldone\r\n",
      "\u001b[?25hRequirement already satisfied: packaging in /opt/conda/lib/python3.10/site-packages (from hydra-core) (21.3)\r\n",
      "Requirement already satisfied: numpy in /opt/conda/lib/python3.10/site-packages (from torchvision>=0.5.0->segmentation_models_pytorch==0.3.3) (1.23.5)\r\n",
      "Requirement already satisfied: requests in /opt/conda/lib/python3.10/site-packages (from torchvision>=0.5.0->segmentation_models_pytorch==0.3.3) (2.31.0)\r\n",
      "Requirement already satisfied: pyparsing!=3.0.5,>=2.0.2 in /opt/conda/lib/python3.10/site-packages (from packaging->hydra-core) (3.0.9)\r\n",
      "Requirement already satisfied: filelock in /opt/conda/lib/python3.10/site-packages (from torch->efficientnet-pytorch==0.7.1->segmentation_models_pytorch==0.3.3) (3.12.2)\r\n",
      "Requirement already satisfied: typing-extensions in /opt/conda/lib/python3.10/site-packages (from torch->efficientnet-pytorch==0.7.1->segmentation_models_pytorch==0.3.3) (4.6.3)\r\n",
      "Requirement already satisfied: sympy in /opt/conda/lib/python3.10/site-packages (from torch->efficientnet-pytorch==0.7.1->segmentation_models_pytorch==0.3.3) (1.12)\r\n",
      "Requirement already satisfied: networkx in /opt/conda/lib/python3.10/site-packages (from torch->efficientnet-pytorch==0.7.1->segmentation_models_pytorch==0.3.3) (3.1)\r\n",
      "Requirement already satisfied: jinja2 in /opt/conda/lib/python3.10/site-packages (from torch->efficientnet-pytorch==0.7.1->segmentation_models_pytorch==0.3.3) (3.1.2)\r\n",
      "Requirement already satisfied: fsspec in /opt/conda/lib/python3.10/site-packages (from huggingface-hub->timm==0.9.2->segmentation_models_pytorch==0.3.3) (2023.9.0)\r\n",
      "Requirement already satisfied: charset-normalizer<4,>=2 in /opt/conda/lib/python3.10/site-packages (from requests->torchvision>=0.5.0->segmentation_models_pytorch==0.3.3) (3.1.0)\r\n",
      "Requirement already satisfied: idna<4,>=2.5 in /opt/conda/lib/python3.10/site-packages (from requests->torchvision>=0.5.0->segmentation_models_pytorch==0.3.3) (3.4)\r\n",
      "Requirement already satisfied: urllib3<3,>=1.21.1 in /opt/conda/lib/python3.10/site-packages (from requests->torchvision>=0.5.0->segmentation_models_pytorch==0.3.3) (1.26.15)\r\n",
      "Requirement already satisfied: certifi>=2017.4.17 in /opt/conda/lib/python3.10/site-packages (from requests->torchvision>=0.5.0->segmentation_models_pytorch==0.3.3) (2023.7.22)\r\n",
      "Requirement already satisfied: MarkupSafe>=2.0 in /opt/conda/lib/python3.10/site-packages (from jinja2->torch->efficientnet-pytorch==0.7.1->segmentation_models_pytorch==0.3.3) (2.1.3)\r\n",
      "Requirement already satisfied: mpmath>=0.19 in /opt/conda/lib/python3.10/site-packages (from sympy->torch->efficientnet-pytorch==0.7.1->segmentation_models_pytorch==0.3.3) (1.3.0)\r\n",
      "Building wheels for collected packages: efficientnet-pytorch, pretrainedmodels, antlr4-python3-runtime\r\n",
      "  Building wheel for efficientnet-pytorch (setup.py) ... \u001b[?25l-\b \bdone\r\n",
      "\u001b[?25h  Created wheel for efficientnet-pytorch: filename=efficientnet_pytorch-0.7.1-py3-none-any.whl size=16427 sha256=08528abb01255d065545d69c535d8857c6c6738c419c9d6cd275ac0677da4e80\r\n",
      "  Stored in directory: /root/.cache/pip/wheels/25/42/08/c312f1b741dfff3f2661c53bd056f4f9683cebbb9fe228b1a5\r\n",
      "  Building wheel for pretrainedmodels (setup.py) ... \u001b[?25l-\b \b\\\b \bdone\r\n",
      "\u001b[?25h  Created wheel for pretrainedmodels: filename=pretrainedmodels-0.7.4-py3-none-any.whl size=60945 sha256=eaeb3e6622bac955a8f642cb9b7f63268f94ce589245f88f4b895a7939c36218\r\n",
      "  Stored in directory: /root/.cache/pip/wheels/4f/02/1f/a5cd4682c2d04e69a0c748116ed4f366e169592fdf08a72b55\r\n",
      "  Building wheel for antlr4-python3-runtime (setup.py) ... \u001b[?25l-\b \bdone\r\n",
      "\u001b[?25h  Created wheel for antlr4-python3-runtime: filename=antlr4_python3_runtime-4.9.3-py3-none-any.whl size=144554 sha256=fd315c24bd6e3efa620799f40d6fe079e68f72815d4f7244f87035bef934e23c\r\n",
      "  Stored in directory: /root/.cache/pip/wheels/bf/5c/34/cdd531f2be0298fb3c66c4db6dff71ec7385fc1fd2d5d60436\r\n",
      "Successfully built efficientnet-pytorch pretrainedmodels antlr4-python3-runtime\r\n",
      "Installing collected packages: antlr4-python3-runtime, omegaconf, munch, hydra-core, efficientnet-pytorch, timm, pretrainedmodels, segmentation_models_pytorch\r\n",
      "  Attempting uninstall: timm\r\n",
      "    Found existing installation: timm 0.9.7\r\n",
      "    Uninstalling timm-0.9.7:\r\n",
      "      Successfully uninstalled timm-0.9.7\r\n",
      "Successfully installed antlr4-python3-runtime-4.9.3 efficientnet-pytorch-0.7.1 hydra-core-1.3.2 munch-4.0.0 omegaconf-2.3.0 pretrainedmodels-0.7.4 segmentation_models_pytorch-0.3.3 timm-0.9.2\r\n"
     ]
    }
   ],
   "source": [
    "!pip install hydra-core segmentation_models_pytorch==0.3.3 --no-index --find-links=/kaggle/input/ex-library"
   ]
  },
  {
   "cell_type": "code",
   "execution_count": 2,
   "id": "b593bae5",
   "metadata": {
    "execution": {
     "iopub.execute_input": "2023-11-10T17:46:00.088944Z",
     "iopub.status.busy": "2023-11-10T17:46:00.088651Z",
     "iopub.status.idle": "2023-11-10T17:46:00.095001Z",
     "shell.execute_reply": "2023-11-10T17:46:00.094098Z"
    },
    "papermill": {
     "duration": 0.015874,
     "end_time": "2023-11-10T17:46:00.096807",
     "exception": false,
     "start_time": "2023-11-10T17:46:00.080933",
     "status": "completed"
    },
    "tags": []
   },
   "outputs": [
    {
     "name": "stdout",
     "output_type": "stream",
     "text": [
      "/kaggle/input/cmi-code\n"
     ]
    }
   ],
   "source": [
    "%cd /kaggle/input/cmi-code/"
   ]
  },
  {
   "cell_type": "code",
   "execution_count": 3,
   "id": "99e66129",
   "metadata": {
    "execution": {
     "iopub.execute_input": "2023-11-10T17:46:00.111451Z",
     "iopub.status.busy": "2023-11-10T17:46:00.111190Z",
     "iopub.status.idle": "2023-11-10T17:46:01.048525Z",
     "shell.execute_reply": "2023-11-10T17:46:01.047458Z"
    },
    "papermill": {
     "duration": 0.947124,
     "end_time": "2023-11-10T17:46:01.050737",
     "exception": false,
     "start_time": "2023-11-10T17:46:00.103613",
     "status": "completed"
    },
    "tags": []
   },
   "outputs": [
    {
     "name": "stdout",
     "output_type": "stream",
     "text": [
      "README.md  \u001b[0m\u001b[01;34mdata\u001b[0m/      pyproject.toml         requirements.lock  \u001b[01;34msrc\u001b[0m/\r\n",
      "\u001b[01;34mbin\u001b[0m/       \u001b[01;34mnotebook\u001b[0m/  requirements-dev.lock  \u001b[01;34mrun\u001b[0m/               \u001b[01;34mtools\u001b[0m/\r\n"
     ]
    }
   ],
   "source": [
    "%ls"
   ]
  },
  {
   "cell_type": "markdown",
   "id": "878812ff",
   "metadata": {
    "papermill": {
     "duration": 0.006796,
     "end_time": "2023-11-10T17:46:01.064474",
     "exception": false,
     "start_time": "2023-11-10T17:46:01.057678",
     "status": "completed"
    },
    "tags": []
   },
   "source": [
    "# Config"
   ]
  },
  {
   "cell_type": "code",
   "execution_count": 4,
   "id": "a69a624c",
   "metadata": {
    "execution": {
     "iopub.execute_input": "2023-11-10T17:46:01.080346Z",
     "iopub.status.busy": "2023-11-10T17:46:01.079964Z",
     "iopub.status.idle": "2023-11-10T17:46:01.085005Z",
     "shell.execute_reply": "2023-11-10T17:46:01.084057Z"
    },
    "papermill": {
     "duration": 0.015853,
     "end_time": "2023-11-10T17:46:01.087151",
     "exception": false,
     "start_time": "2023-11-10T17:46:01.071298",
     "status": "completed"
    },
    "tags": []
   },
   "outputs": [],
   "source": [
    "# Config\n",
    "DURATION = 5760\n",
    "DOWNSAMPLE_RATE = 2\n",
    "PHASE = 'test'\n",
    "EXP_NAME = 'exp001'"
   ]
  },
  {
   "cell_type": "markdown",
   "id": "f8c77c4c",
   "metadata": {
    "papermill": {
     "duration": 0.007517,
     "end_time": "2023-11-10T17:46:01.102318",
     "exception": false,
     "start_time": "2023-11-10T17:46:01.094801",
     "status": "completed"
    },
    "tags": []
   },
   "source": [
    "# Preprocess"
   ]
  },
  {
   "cell_type": "code",
   "execution_count": 5,
   "id": "c89054d1",
   "metadata": {
    "execution": {
     "iopub.execute_input": "2023-11-10T17:46:01.118737Z",
     "iopub.status.busy": "2023-11-10T17:46:01.118460Z",
     "iopub.status.idle": "2023-11-10T17:46:04.199084Z",
     "shell.execute_reply": "2023-11-10T17:46:04.198068Z"
    },
    "papermill": {
     "duration": 3.091409,
     "end_time": "2023-11-10T17:46:04.201373",
     "exception": false,
     "start_time": "2023-11-10T17:46:01.109964",
     "status": "completed"
    },
    "tags": []
   },
   "outputs": [
    {
     "name": "stdout",
     "output_type": "stream",
     "text": [
      "shape: (5, 5)\r\n",
      "┌──────────────┬──────────┬───────────┬─────────────────────────┬────────────┐\r\n",
      "│ series_id    ┆ anglez   ┆ enmo      ┆ timestamp               ┆ anglez_rad │\r\n",
      "│ ---          ┆ ---      ┆ ---       ┆ ---                     ┆ ---        │\r\n",
      "│ str          ┆ f32      ┆ f32       ┆ datetime[μs, UTC]       ┆ f32        │\r\n",
      "╞══════════════╪══════════╪═══════════╪═════════════════════════╪════════════╡\r\n",
      "│ 038441c925bb ┆ 0.322257 ┆ -0.192627 ┆ 2018-08-14 19:30:00 UTC ┆ 0.046019   │\r\n",
      "│ 038441c925bb ┆ 0.32226  ┆ -0.194591 ┆ 2018-08-14 19:30:05 UTC ┆ 0.046021   │\r\n",
      "│ 038441c925bb ┆ 0.322266 ┆ -0.193609 ┆ 2018-08-14 19:30:10 UTC ┆ 0.046024   │\r\n",
      "│ 038441c925bb ┆ 0.32226  ┆ -0.196555 ┆ 2018-08-14 19:30:15 UTC ┆ 0.046021   │\r\n",
      "│ 038441c925bb ┆ 0.32226  ┆ -0.194591 ┆ 2018-08-14 19:30:20 UTC ┆ 0.046021   │\r\n",
      "└──────────────┴──────────┴───────────┴─────────────────────────┴────────────┘\r\n",
      "['series_id', 'anglez', 'enmo', 'timestamp', 'anglez_rad']\r\n",
      "[0.1GB(+0.0GB):0.2sec] Load series \r\n",
      "100%|█████████████████████████████████████████████| 3/3 [00:00<00:00, 69.02it/s]\r\n",
      "[0.1GB(+0.0GB):0.1sec] Save features \r\n"
     ]
    }
   ],
   "source": [
    "!HYDRA_FULL_ERROR=1 python -m run.prepare_data dir=kaggle phase=$PHASE"
   ]
  },
  {
   "cell_type": "markdown",
   "id": "cb079f32",
   "metadata": {
    "papermill": {
     "duration": 0.006792,
     "end_time": "2023-11-10T17:46:04.215419",
     "exception": false,
     "start_time": "2023-11-10T17:46:04.208627",
     "status": "completed"
    },
    "tags": []
   },
   "source": [
    "# Inference"
   ]
  },
  {
   "cell_type": "code",
   "execution_count": 6,
   "id": "c4107e64",
   "metadata": {
    "execution": {
     "iopub.execute_input": "2023-11-10T17:46:04.230705Z",
     "iopub.status.busy": "2023-11-10T17:46:04.230391Z",
     "iopub.status.idle": "2023-11-10T17:46:04.235794Z",
     "shell.execute_reply": "2023-11-10T17:46:04.234547Z"
    },
    "papermill": {
     "duration": 0.015449,
     "end_time": "2023-11-10T17:46:04.237822",
     "exception": true,
     "start_time": "2023-11-10T17:46:04.222373",
     "status": "failed"
    },
    "tags": []
   },
   "outputs": [
    {
     "name": "stderr",
     "output_type": "stream",
     "text": [
      "UsageError: Line magic function `%export` not found.\n"
     ]
    }
   ],
   "source": [
    "%export HYDRA_FULL_ERROR=1\n"
   ]
  },
  {
   "cell_type": "code",
   "execution_count": null,
   "id": "67cdc221",
   "metadata": {
    "execution": {
     "iopub.execute_input": "2023-11-10T17:14:48.897705Z",
     "iopub.status.busy": "2023-11-10T17:14:48.896857Z",
     "iopub.status.idle": "2023-11-10T17:15:01.310053Z",
     "shell.execute_reply": "2023-11-10T17:15:01.308958Z",
     "shell.execute_reply.started": "2023-11-10T17:14:48.897667Z"
    },
    "papermill": {
     "duration": null,
     "end_time": null,
     "exception": null,
     "start_time": null,
     "status": "pending"
    },
    "tags": []
   },
   "outputs": [],
   "source": [
    "\n",
    "!python -m run.inference --cfg hydra dir=kaggle phase=$PHASE"
   ]
  },
  {
   "cell_type": "code",
   "execution_count": null,
   "id": "eef90059",
   "metadata": {
    "papermill": {
     "duration": null,
     "end_time": null,
     "exception": null,
     "start_time": null,
     "status": "pending"
    },
    "tags": []
   },
   "outputs": [],
   "source": []
  },
  {
   "cell_type": "code",
   "execution_count": null,
   "id": "6bcbe314",
   "metadata": {
    "execution": {
     "iopub.execute_input": "2023-11-10T17:36:36.828407Z",
     "iopub.status.busy": "2023-11-10T17:36:36.827444Z",
     "iopub.status.idle": "2023-11-10T17:36:55.906535Z",
     "shell.execute_reply": "2023-11-10T17:36:55.905340Z",
     "shell.execute_reply.started": "2023-11-10T17:36:36.828370Z"
    },
    "papermill": {
     "duration": null,
     "end_time": null,
     "exception": null,
     "start_time": null,
     "status": "pending"
    },
    "tags": []
   },
   "outputs": [],
   "source": [
    "!HYDRA_FULL_ERROR=1 python -m run.inference\\\n",
    "    dir=kaggle\\\n",
    "    num_workers=2\\\n",
    "    exp_name=$EXP_NAME\\\n",
    "    weight.run_name=single\\\n",
    "    batch_size=64\\\n",
    "    duration=$DURATION\\\n",
    "    downsample_rate=$DOWNSAMPLE_RATE\\\n",
    "    phase=$PHASE"
   ]
  },
  {
   "cell_type": "code",
   "execution_count": null,
   "id": "4957a93b",
   "metadata": {
    "execution": {
     "iopub.execute_input": "2023-11-10T17:44:44.515494Z",
     "iopub.status.busy": "2023-11-10T17:44:44.514817Z",
     "iopub.status.idle": "2023-11-10T17:44:46.381108Z",
     "shell.execute_reply": "2023-11-10T17:44:46.379937Z",
     "shell.execute_reply.started": "2023-11-10T17:44:44.515455Z"
    },
    "papermill": {
     "duration": null,
     "end_time": null,
     "exception": null,
     "start_time": null,
     "status": "pending"
    },
    "tags": []
   },
   "outputs": [],
   "source": [
    "# いらないファイル、フォルダ削除\n",
    "!rm -rf /kaggle/working/processed_data\n",
    "!rm -rf /kaggle/working/output"
   ]
  },
  {
   "cell_type": "code",
   "execution_count": null,
   "id": "3e2d5ad1",
   "metadata": {
    "papermill": {
     "duration": null,
     "end_time": null,
     "exception": null,
     "start_time": null,
     "status": "pending"
    },
    "tags": []
   },
   "outputs": [],
   "source": []
  }
 ],
 "metadata": {
  "kernelspec": {
   "display_name": "Python 3",
   "language": "python",
   "name": "python3"
  },
  "language_info": {
   "codemirror_mode": {
    "name": "ipython",
    "version": 3
   },
   "file_extension": ".py",
   "mimetype": "text/x-python",
   "name": "python",
   "nbconvert_exporter": "python",
   "pygments_lexer": "ipython3",
   "version": "3.10.12"
  },
  "papermill": {
   "default_parameters": {},
   "duration": 29.089301,
   "end_time": "2023-11-10T17:46:04.463518",
   "environment_variables": {},
   "exception": true,
   "input_path": "__notebook__.ipynb",
   "output_path": "__notebook__.ipynb",
   "parameters": {},
   "start_time": "2023-11-10T17:45:35.374217",
   "version": "2.4.0"
  }
 },
 "nbformat": 4,
 "nbformat_minor": 5
}
