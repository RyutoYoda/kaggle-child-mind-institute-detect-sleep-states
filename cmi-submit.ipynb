{
 "cells": [
  {
   "cell_type": "markdown",
   "id": "fae91293",
   "metadata": {
    "papermill": {
     "duration": 0.004923,
     "end_time": "2023-11-10T18:02:10.051937",
     "exception": false,
     "start_time": "2023-11-10T18:02:10.047014",
     "status": "completed"
    },
    "tags": []
   },
   "source": [
    "See the following repositories for details  \n",
    "https://github.com/tubo213/kaggle-child-mind-institute-detect-sleep-states"
   ]
  },
  {
   "cell_type": "code",
   "execution_count": null,
   "id": "afa5e6df",
   "metadata": {
    "execution": {
     "iopub.execute_input": "2023-11-09T19:13:30.143912Z",
     "iopub.status.busy": "2023-11-09T19:13:30.143558Z",
     "iopub.status.idle": "2023-11-09T19:13:31.110094Z",
     "shell.execute_reply": "2023-11-09T19:13:31.109066Z",
     "shell.execute_reply.started": "2023-11-09T19:13:30.143887Z"
    },
    "papermill": {
     "duration": 0.004195,
     "end_time": "2023-11-10T18:02:10.060709",
     "exception": false,
     "start_time": "2023-11-10T18:02:10.056514",
     "status": "completed"
    },
    "tags": []
   },
   "outputs": [],
   "source": []
  },
  {
   "cell_type": "markdown",
   "id": "331ac8f1",
   "metadata": {
    "papermill": {
     "duration": 0.004072,
     "end_time": "2023-11-10T18:02:10.069494",
     "exception": false,
     "start_time": "2023-11-10T18:02:10.065422",
     "status": "completed"
    },
    "tags": []
   },
   "source": [
    "# Install additional libraries"
   ]
  },
  {
   "cell_type": "code",
   "execution_count": 1,
   "id": "d382c9a1",
   "metadata": {
    "execution": {
     "iopub.execute_input": "2023-11-10T18:02:10.080485Z",
     "iopub.status.busy": "2023-11-10T18:02:10.079678Z",
     "iopub.status.idle": "2023-11-10T18:02:31.388870Z",
     "shell.execute_reply": "2023-11-10T18:02:31.387889Z"
    },
    "papermill": {
     "duration": 21.317312,
     "end_time": "2023-11-10T18:02:31.391247",
     "exception": false,
     "start_time": "2023-11-10T18:02:10.073935",
     "status": "completed"
    },
    "tags": []
   },
   "outputs": [
    {
     "name": "stdout",
     "output_type": "stream",
     "text": [
      "Looking in links: /kaggle/input/ex-library\r\n",
      "Processing /kaggle/input/ex-library/hydra_core-1.3.2-py3-none-any.whl\r\n",
      "Processing /kaggle/input/ex-library/segmentation_models_pytorch-0.3.3-py3-none-any.whl\r\n",
      "Requirement already satisfied: torchvision>=0.5.0 in /opt/conda/lib/python3.10/site-packages (from segmentation_models_pytorch==0.3.3) (0.15.1)\r\n",
      "Processing /kaggle/input/ex-library/pretrainedmodels-0.7.4.tar.gz (from segmentation_models_pytorch==0.3.3)\r\n",
      "  Preparing metadata (setup.py) ... \u001b[?25l-\b \bdone\r\n",
      "\u001b[?25hProcessing /kaggle/input/ex-library/efficientnet_pytorch-0.7.1.tar.gz (from segmentation_models_pytorch==0.3.3)\r\n",
      "  Preparing metadata (setup.py) ... \u001b[?25ldone\r\n",
      "\u001b[?25hProcessing /kaggle/input/ex-library/timm-0.9.2-py3-none-any.whl (from segmentation_models_pytorch==0.3.3)\r\n",
      "Requirement already satisfied: tqdm in /opt/conda/lib/python3.10/site-packages (from segmentation_models_pytorch==0.3.3) (4.66.1)\r\n",
      "Requirement already satisfied: pillow in /opt/conda/lib/python3.10/site-packages (from segmentation_models_pytorch==0.3.3) (9.5.0)\r\n",
      "Requirement already satisfied: torch in /opt/conda/lib/python3.10/site-packages (from efficientnet-pytorch==0.7.1->segmentation_models_pytorch==0.3.3) (2.0.0)\r\n",
      "Processing /kaggle/input/ex-library/munch-4.0.0-py2.py3-none-any.whl (from pretrainedmodels==0.7.4->segmentation_models_pytorch==0.3.3)\r\n",
      "Requirement already satisfied: pyyaml in /opt/conda/lib/python3.10/site-packages (from timm==0.9.2->segmentation_models_pytorch==0.3.3) (6.0)\r\n",
      "Requirement already satisfied: huggingface-hub in /opt/conda/lib/python3.10/site-packages (from timm==0.9.2->segmentation_models_pytorch==0.3.3) (0.16.4)\r\n",
      "Requirement already satisfied: safetensors in /opt/conda/lib/python3.10/site-packages (from timm==0.9.2->segmentation_models_pytorch==0.3.3) (0.3.3)\r\n",
      "Processing /kaggle/input/ex-library/omegaconf-2.3.0-py3-none-any.whl (from hydra-core)\r\n",
      "Processing /kaggle/input/ex-library/antlr4-python3-runtime-4.9.3.tar.gz (from hydra-core)\r\n",
      "  Preparing metadata (setup.py) ... \u001b[?25ldone\r\n",
      "\u001b[?25hRequirement already satisfied: packaging in /opt/conda/lib/python3.10/site-packages (from hydra-core) (21.3)\r\n",
      "Requirement already satisfied: numpy in /opt/conda/lib/python3.10/site-packages (from torchvision>=0.5.0->segmentation_models_pytorch==0.3.3) (1.23.5)\r\n",
      "Requirement already satisfied: requests in /opt/conda/lib/python3.10/site-packages (from torchvision>=0.5.0->segmentation_models_pytorch==0.3.3) (2.31.0)\r\n",
      "Requirement already satisfied: pyparsing!=3.0.5,>=2.0.2 in /opt/conda/lib/python3.10/site-packages (from packaging->hydra-core) (3.0.9)\r\n",
      "Requirement already satisfied: filelock in /opt/conda/lib/python3.10/site-packages (from torch->efficientnet-pytorch==0.7.1->segmentation_models_pytorch==0.3.3) (3.12.2)\r\n",
      "Requirement already satisfied: typing-extensions in /opt/conda/lib/python3.10/site-packages (from torch->efficientnet-pytorch==0.7.1->segmentation_models_pytorch==0.3.3) (4.6.3)\r\n",
      "Requirement already satisfied: sympy in /opt/conda/lib/python3.10/site-packages (from torch->efficientnet-pytorch==0.7.1->segmentation_models_pytorch==0.3.3) (1.12)\r\n",
      "Requirement already satisfied: networkx in /opt/conda/lib/python3.10/site-packages (from torch->efficientnet-pytorch==0.7.1->segmentation_models_pytorch==0.3.3) (3.1)\r\n",
      "Requirement already satisfied: jinja2 in /opt/conda/lib/python3.10/site-packages (from torch->efficientnet-pytorch==0.7.1->segmentation_models_pytorch==0.3.3) (3.1.2)\r\n",
      "Requirement already satisfied: fsspec in /opt/conda/lib/python3.10/site-packages (from huggingface-hub->timm==0.9.2->segmentation_models_pytorch==0.3.3) (2023.9.0)\r\n",
      "Requirement already satisfied: charset-normalizer<4,>=2 in /opt/conda/lib/python3.10/site-packages (from requests->torchvision>=0.5.0->segmentation_models_pytorch==0.3.3) (3.1.0)\r\n",
      "Requirement already satisfied: idna<4,>=2.5 in /opt/conda/lib/python3.10/site-packages (from requests->torchvision>=0.5.0->segmentation_models_pytorch==0.3.3) (3.4)\r\n",
      "Requirement already satisfied: urllib3<3,>=1.21.1 in /opt/conda/lib/python3.10/site-packages (from requests->torchvision>=0.5.0->segmentation_models_pytorch==0.3.3) (1.26.15)\r\n",
      "Requirement already satisfied: certifi>=2017.4.17 in /opt/conda/lib/python3.10/site-packages (from requests->torchvision>=0.5.0->segmentation_models_pytorch==0.3.3) (2023.7.22)\r\n",
      "Requirement already satisfied: MarkupSafe>=2.0 in /opt/conda/lib/python3.10/site-packages (from jinja2->torch->efficientnet-pytorch==0.7.1->segmentation_models_pytorch==0.3.3) (2.1.3)\r\n",
      "Requirement already satisfied: mpmath>=0.19 in /opt/conda/lib/python3.10/site-packages (from sympy->torch->efficientnet-pytorch==0.7.1->segmentation_models_pytorch==0.3.3) (1.3.0)\r\n",
      "Building wheels for collected packages: efficientnet-pytorch, pretrainedmodels, antlr4-python3-runtime\r\n",
      "  Building wheel for efficientnet-pytorch (setup.py) ... \u001b[?25l-\b \bdone\r\n",
      "\u001b[?25h  Created wheel for efficientnet-pytorch: filename=efficientnet_pytorch-0.7.1-py3-none-any.whl size=16427 sha256=db679015d43834cb8143692390e738d771387df62d27ffbe796ea079eddac9f9\r\n",
      "  Stored in directory: /root/.cache/pip/wheels/25/42/08/c312f1b741dfff3f2661c53bd056f4f9683cebbb9fe228b1a5\r\n",
      "  Building wheel for pretrainedmodels (setup.py) ... \u001b[?25l-\b \b\\\b \bdone\r\n",
      "\u001b[?25h  Created wheel for pretrainedmodels: filename=pretrainedmodels-0.7.4-py3-none-any.whl size=60945 sha256=b113b14a4f9f9002b48671f7bf7450465137712d7ffe00ec01176af6c15b57ae\r\n",
      "  Stored in directory: /root/.cache/pip/wheels/4f/02/1f/a5cd4682c2d04e69a0c748116ed4f366e169592fdf08a72b55\r\n",
      "  Building wheel for antlr4-python3-runtime (setup.py) ... \u001b[?25l-\b \bdone\r\n",
      "\u001b[?25h  Created wheel for antlr4-python3-runtime: filename=antlr4_python3_runtime-4.9.3-py3-none-any.whl size=144554 sha256=02ec1a90e2e9c63c32dea624784e766ed70fece20e8c0e1e5da70401a73bd514\r\n",
      "  Stored in directory: /root/.cache/pip/wheels/bf/5c/34/cdd531f2be0298fb3c66c4db6dff71ec7385fc1fd2d5d60436\r\n",
      "Successfully built efficientnet-pytorch pretrainedmodels antlr4-python3-runtime\r\n",
      "Installing collected packages: antlr4-python3-runtime, omegaconf, munch, hydra-core, efficientnet-pytorch, timm, pretrainedmodels, segmentation_models_pytorch\r\n",
      "  Attempting uninstall: timm\r\n",
      "    Found existing installation: timm 0.9.7\r\n",
      "    Uninstalling timm-0.9.7:\r\n",
      "      Successfully uninstalled timm-0.9.7\r\n",
      "Successfully installed antlr4-python3-runtime-4.9.3 efficientnet-pytorch-0.7.1 hydra-core-1.3.2 munch-4.0.0 omegaconf-2.3.0 pretrainedmodels-0.7.4 segmentation_models_pytorch-0.3.3 timm-0.9.2\r\n"
     ]
    }
   ],
   "source": [
    "!pip install hydra-core segmentation_models_pytorch==0.3.3 --no-index --find-links=/kaggle/input/ex-library"
   ]
  },
  {
   "cell_type": "code",
   "execution_count": 2,
   "id": "941d1fc9",
   "metadata": {
    "execution": {
     "iopub.execute_input": "2023-11-10T18:02:31.406475Z",
     "iopub.status.busy": "2023-11-10T18:02:31.406150Z",
     "iopub.status.idle": "2023-11-10T18:02:31.412783Z",
     "shell.execute_reply": "2023-11-10T18:02:31.411635Z"
    },
    "papermill": {
     "duration": 0.016596,
     "end_time": "2023-11-10T18:02:31.414987",
     "exception": false,
     "start_time": "2023-11-10T18:02:31.398391",
     "status": "completed"
    },
    "tags": []
   },
   "outputs": [
    {
     "name": "stdout",
     "output_type": "stream",
     "text": [
      "/kaggle/input/cmi-code\n"
     ]
    }
   ],
   "source": [
    "%cd /kaggle/input/cmi-code/"
   ]
  },
  {
   "cell_type": "code",
   "execution_count": 3,
   "id": "84727247",
   "metadata": {
    "execution": {
     "iopub.execute_input": "2023-11-10T18:02:31.431017Z",
     "iopub.status.busy": "2023-11-10T18:02:31.430748Z",
     "iopub.status.idle": "2023-11-10T18:02:32.390523Z",
     "shell.execute_reply": "2023-11-10T18:02:32.389579Z"
    },
    "papermill": {
     "duration": 0.970132,
     "end_time": "2023-11-10T18:02:32.392732",
     "exception": false,
     "start_time": "2023-11-10T18:02:31.422600",
     "status": "completed"
    },
    "tags": []
   },
   "outputs": [
    {
     "name": "stdout",
     "output_type": "stream",
     "text": [
      "README.md  \u001b[0m\u001b[01;34mdata\u001b[0m/      pyproject.toml         requirements.lock  \u001b[01;34msrc\u001b[0m/\r\n",
      "\u001b[01;34mbin\u001b[0m/       \u001b[01;34mnotebook\u001b[0m/  requirements-dev.lock  \u001b[01;34mrun\u001b[0m/               \u001b[01;34mtools\u001b[0m/\r\n"
     ]
    }
   ],
   "source": [
    "%ls"
   ]
  },
  {
   "cell_type": "markdown",
   "id": "af20f96b",
   "metadata": {
    "papermill": {
     "duration": 0.007495,
     "end_time": "2023-11-10T18:02:32.407670",
     "exception": false,
     "start_time": "2023-11-10T18:02:32.400175",
     "status": "completed"
    },
    "tags": []
   },
   "source": [
    "# Config"
   ]
  },
  {
   "cell_type": "code",
   "execution_count": 4,
   "id": "ee567c7d",
   "metadata": {
    "execution": {
     "iopub.execute_input": "2023-11-10T18:02:32.425119Z",
     "iopub.status.busy": "2023-11-10T18:02:32.424778Z",
     "iopub.status.idle": "2023-11-10T18:02:32.429586Z",
     "shell.execute_reply": "2023-11-10T18:02:32.428659Z"
    },
    "papermill": {
     "duration": 0.01527,
     "end_time": "2023-11-10T18:02:32.431559",
     "exception": false,
     "start_time": "2023-11-10T18:02:32.416289",
     "status": "completed"
    },
    "tags": []
   },
   "outputs": [],
   "source": [
    "# Config\n",
    "DURATION = 5760\n",
    "DOWNSAMPLE_RATE = 2\n",
    "PHASE = 'test'\n",
    "EXP_NAME = 'exp001'"
   ]
  },
  {
   "cell_type": "markdown",
   "id": "950fb7cd",
   "metadata": {
    "papermill": {
     "duration": 0.006655,
     "end_time": "2023-11-10T18:02:32.444971",
     "exception": false,
     "start_time": "2023-11-10T18:02:32.438316",
     "status": "completed"
    },
    "tags": []
   },
   "source": [
    "# Preprocess"
   ]
  },
  {
   "cell_type": "code",
   "execution_count": 5,
   "id": "05b21254",
   "metadata": {
    "execution": {
     "iopub.execute_input": "2023-11-10T18:02:32.459597Z",
     "iopub.status.busy": "2023-11-10T18:02:32.459324Z",
     "iopub.status.idle": "2023-11-10T18:02:35.492109Z",
     "shell.execute_reply": "2023-11-10T18:02:35.490730Z"
    },
    "papermill": {
     "duration": 3.042974,
     "end_time": "2023-11-10T18:02:35.494677",
     "exception": false,
     "start_time": "2023-11-10T18:02:32.451703",
     "status": "completed"
    },
    "tags": []
   },
   "outputs": [
    {
     "name": "stdout",
     "output_type": "stream",
     "text": [
      "shape: (5, 5)\r\n",
      "┌──────────────┬──────────┬───────────┬─────────────────────────┬────────────┐\r\n",
      "│ series_id    ┆ anglez   ┆ enmo      ┆ timestamp               ┆ anglez_rad │\r\n",
      "│ ---          ┆ ---      ┆ ---       ┆ ---                     ┆ ---        │\r\n",
      "│ str          ┆ f32      ┆ f32       ┆ datetime[μs, UTC]       ┆ f32        │\r\n",
      "╞══════════════╪══════════╪═══════════╪═════════════════════════╪════════════╡\r\n",
      "│ 038441c925bb ┆ 0.322257 ┆ -0.192627 ┆ 2018-08-14 19:30:00 UTC ┆ 0.046019   │\r\n",
      "│ 038441c925bb ┆ 0.32226  ┆ -0.194591 ┆ 2018-08-14 19:30:05 UTC ┆ 0.046021   │\r\n",
      "│ 038441c925bb ┆ 0.322266 ┆ -0.193609 ┆ 2018-08-14 19:30:10 UTC ┆ 0.046024   │\r\n",
      "│ 038441c925bb ┆ 0.32226  ┆ -0.196555 ┆ 2018-08-14 19:30:15 UTC ┆ 0.046021   │\r\n",
      "│ 038441c925bb ┆ 0.32226  ┆ -0.194591 ┆ 2018-08-14 19:30:20 UTC ┆ 0.046021   │\r\n",
      "└──────────────┴──────────┴───────────┴─────────────────────────┴────────────┘\r\n",
      "['series_id', 'anglez', 'enmo', 'timestamp', 'anglez_rad']\r\n",
      "[0.1GB(+0.0GB):0.1sec] Load series \r\n",
      "100%|█████████████████████████████████████████████| 3/3 [00:00<00:00, 66.26it/s]\r\n",
      "[0.1GB(+0.0GB):0.1sec] Save features \r\n"
     ]
    }
   ],
   "source": [
    "!HYDRA_FULL_ERROR=1 python -m run.prepare_data dir=kaggle phase=$PHASE"
   ]
  },
  {
   "cell_type": "markdown",
   "id": "9ee44032",
   "metadata": {
    "papermill": {
     "duration": 0.007255,
     "end_time": "2023-11-10T18:02:35.510133",
     "exception": false,
     "start_time": "2023-11-10T18:02:35.502878",
     "status": "completed"
    },
    "tags": []
   },
   "source": [
    "# Inference"
   ]
  },
  {
   "cell_type": "code",
   "execution_count": 6,
   "id": "d4258e79",
   "metadata": {
    "execution": {
     "iopub.execute_input": "2023-11-10T18:02:35.527587Z",
     "iopub.status.busy": "2023-11-10T18:02:35.527097Z",
     "iopub.status.idle": "2023-11-10T18:02:35.533233Z",
     "shell.execute_reply": "2023-11-10T18:02:35.531915Z"
    },
    "papermill": {
     "duration": 0.017393,
     "end_time": "2023-11-10T18:02:35.534844",
     "exception": true,
     "start_time": "2023-11-10T18:02:35.517451",
     "status": "failed"
    },
    "tags": []
   },
   "outputs": [
    {
     "name": "stderr",
     "output_type": "stream",
     "text": [
      "UsageError: Line magic function `%export` not found.\n"
     ]
    }
   ],
   "source": [
    "%export HYDRA_FULL_ERROR=1\n"
   ]
  },
  {
   "cell_type": "code",
   "execution_count": null,
   "id": "975684ee",
   "metadata": {
    "execution": {
     "iopub.execute_input": "2023-11-10T17:50:35.405600Z",
     "iopub.status.busy": "2023-11-10T17:50:35.405289Z",
     "iopub.status.idle": "2023-11-10T17:50:47.637921Z",
     "shell.execute_reply": "2023-11-10T17:50:47.636775Z",
     "shell.execute_reply.started": "2023-11-10T17:50:35.405570Z"
    },
    "papermill": {
     "duration": null,
     "end_time": null,
     "exception": null,
     "start_time": null,
     "status": "pending"
    },
    "tags": []
   },
   "outputs": [],
   "source": [
    "\n",
    "!python -m run.inference --cfg hydra dir=kaggle phase=$PHASE"
   ]
  },
  {
   "cell_type": "code",
   "execution_count": null,
   "id": "ce63176e",
   "metadata": {
    "papermill": {
     "duration": null,
     "end_time": null,
     "exception": null,
     "start_time": null,
     "status": "pending"
    },
    "tags": []
   },
   "outputs": [],
   "source": []
  },
  {
   "cell_type": "code",
   "execution_count": null,
   "id": "97d1000b",
   "metadata": {
    "execution": {
     "iopub.execute_input": "2023-11-10T17:50:47.641346Z",
     "iopub.status.busy": "2023-11-10T17:50:47.640891Z",
     "iopub.status.idle": "2023-11-10T17:51:06.570319Z",
     "shell.execute_reply": "2023-11-10T17:51:06.569323Z",
     "shell.execute_reply.started": "2023-11-10T17:50:47.641300Z"
    },
    "papermill": {
     "duration": null,
     "end_time": null,
     "exception": null,
     "start_time": null,
     "status": "pending"
    },
    "tags": []
   },
   "outputs": [],
   "source": [
    "!HYDRA_FULL_ERROR=1 python -m run.inference\\\n",
    "    dir=kaggle\\\n",
    "    num_workers=2\\\n",
    "    exp_name=$EXP_NAME\\\n",
    "    weight.run_name=single\\\n",
    "    batch_size=64\\\n",
    "    duration=$DURATION\\\n",
    "    downsample_rate=$DOWNSAMPLE_RATE\\\n",
    "    phase=$PHASE"
   ]
  },
  {
   "cell_type": "code",
   "execution_count": null,
   "id": "d0ed9e60",
   "metadata": {
    "execution": {
     "iopub.execute_input": "2023-11-10T17:51:06.572105Z",
     "iopub.status.busy": "2023-11-10T17:51:06.571764Z",
     "iopub.status.idle": "2023-11-10T17:51:08.467597Z",
     "shell.execute_reply": "2023-11-10T17:51:08.466505Z",
     "shell.execute_reply.started": "2023-11-10T17:51:06.572055Z"
    },
    "papermill": {
     "duration": null,
     "end_time": null,
     "exception": null,
     "start_time": null,
     "status": "pending"
    },
    "tags": []
   },
   "outputs": [],
   "source": [
    "# いらないファイル、フォルダ削除\n",
    "!rm -rf /kaggle/working/processed_data\n",
    "!rm -rf /kaggle/working/output"
   ]
  },
  {
   "cell_type": "code",
   "execution_count": null,
   "id": "9ea7431b",
   "metadata": {
    "papermill": {
     "duration": null,
     "end_time": null,
     "exception": null,
     "start_time": null,
     "status": "pending"
    },
    "tags": []
   },
   "outputs": [],
   "source": []
  }
 ],
 "metadata": {
  "kernelspec": {
   "display_name": "Python 3",
   "language": "python",
   "name": "python3"
  },
  "language_info": {
   "codemirror_mode": {
    "name": "ipython",
    "version": 3
   },
   "file_extension": ".py",
   "mimetype": "text/x-python",
   "name": "python",
   "nbconvert_exporter": "python",
   "pygments_lexer": "ipython3",
   "version": "3.10.12"
  },
  "papermill": {
   "default_parameters": {},
   "duration": 29.284877,
   "end_time": "2023-11-10T18:02:35.760113",
   "environment_variables": {},
   "exception": true,
   "input_path": "__notebook__.ipynb",
   "output_path": "__notebook__.ipynb",
   "parameters": {},
   "start_time": "2023-11-10T18:02:06.475236",
   "version": "2.4.0"
  }
 },
 "nbformat": 4,
 "nbformat_minor": 5
}
