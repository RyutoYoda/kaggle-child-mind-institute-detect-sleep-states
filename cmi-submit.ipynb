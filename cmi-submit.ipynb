{
 "cells": [
  {
   "cell_type": "markdown",
   "id": "08333a4a",
   "metadata": {
    "papermill": {
     "duration": 0.005045,
     "end_time": "2023-11-10T17:38:03.172277",
     "exception": false,
     "start_time": "2023-11-10T17:38:03.167232",
     "status": "completed"
    },
    "tags": []
   },
   "source": [
    "See the following repositories for details  \n",
    "https://github.com/tubo213/kaggle-child-mind-institute-detect-sleep-states"
   ]
  },
  {
   "cell_type": "code",
   "execution_count": null,
   "id": "d60c5ec5",
   "metadata": {
    "execution": {
     "iopub.execute_input": "2023-11-09T19:13:30.143912Z",
     "iopub.status.busy": "2023-11-09T19:13:30.143558Z",
     "iopub.status.idle": "2023-11-09T19:13:31.110094Z",
     "shell.execute_reply": "2023-11-09T19:13:31.109066Z",
     "shell.execute_reply.started": "2023-11-09T19:13:30.143887Z"
    },
    "papermill": {
     "duration": 0.004186,
     "end_time": "2023-11-10T17:38:03.181635",
     "exception": false,
     "start_time": "2023-11-10T17:38:03.177449",
     "status": "completed"
    },
    "tags": []
   },
   "outputs": [],
   "source": []
  },
  {
   "cell_type": "markdown",
   "id": "e7a4c104",
   "metadata": {
    "papermill": {
     "duration": 0.004172,
     "end_time": "2023-11-10T17:38:03.190165",
     "exception": false,
     "start_time": "2023-11-10T17:38:03.185993",
     "status": "completed"
    },
    "tags": []
   },
   "source": [
    "# Install additional libraries"
   ]
  },
  {
   "cell_type": "code",
   "execution_count": 1,
   "id": "5c16fc85",
   "metadata": {
    "execution": {
     "iopub.execute_input": "2023-11-10T17:38:03.200715Z",
     "iopub.status.busy": "2023-11-10T17:38:03.199913Z",
     "iopub.status.idle": "2023-11-10T17:38:26.342318Z",
     "shell.execute_reply": "2023-11-10T17:38:26.341355Z"
    },
    "papermill": {
     "duration": 23.150156,
     "end_time": "2023-11-10T17:38:26.344706",
     "exception": false,
     "start_time": "2023-11-10T17:38:03.194550",
     "status": "completed"
    },
    "tags": []
   },
   "outputs": [
    {
     "name": "stdout",
     "output_type": "stream",
     "text": [
      "Looking in links: /kaggle/input/ex-library\r\n",
      "Processing /kaggle/input/ex-library/hydra_core-1.3.2-py3-none-any.whl\r\n",
      "Processing /kaggle/input/ex-library/segmentation_models_pytorch-0.3.3-py3-none-any.whl\r\n",
      "Requirement already satisfied: torchvision>=0.5.0 in /opt/conda/lib/python3.10/site-packages (from segmentation_models_pytorch==0.3.3) (0.15.1)\r\n",
      "Processing /kaggle/input/ex-library/pretrainedmodels-0.7.4.tar.gz (from segmentation_models_pytorch==0.3.3)\r\n",
      "  Preparing metadata (setup.py) ... \u001b[?25l-\b \bdone\r\n",
      "\u001b[?25hProcessing /kaggle/input/ex-library/efficientnet_pytorch-0.7.1.tar.gz (from segmentation_models_pytorch==0.3.3)\r\n",
      "  Preparing metadata (setup.py) ... \u001b[?25ldone\r\n",
      "\u001b[?25hProcessing /kaggle/input/ex-library/timm-0.9.2-py3-none-any.whl (from segmentation_models_pytorch==0.3.3)\r\n",
      "Requirement already satisfied: tqdm in /opt/conda/lib/python3.10/site-packages (from segmentation_models_pytorch==0.3.3) (4.66.1)\r\n",
      "Requirement already satisfied: pillow in /opt/conda/lib/python3.10/site-packages (from segmentation_models_pytorch==0.3.3) (9.5.0)\r\n",
      "Requirement already satisfied: torch in /opt/conda/lib/python3.10/site-packages (from efficientnet-pytorch==0.7.1->segmentation_models_pytorch==0.3.3) (2.0.0)\r\n",
      "Processing /kaggle/input/ex-library/munch-4.0.0-py2.py3-none-any.whl (from pretrainedmodels==0.7.4->segmentation_models_pytorch==0.3.3)\r\n",
      "Requirement already satisfied: pyyaml in /opt/conda/lib/python3.10/site-packages (from timm==0.9.2->segmentation_models_pytorch==0.3.3) (6.0)\r\n",
      "Requirement already satisfied: huggingface-hub in /opt/conda/lib/python3.10/site-packages (from timm==0.9.2->segmentation_models_pytorch==0.3.3) (0.16.4)\r\n",
      "Requirement already satisfied: safetensors in /opt/conda/lib/python3.10/site-packages (from timm==0.9.2->segmentation_models_pytorch==0.3.3) (0.3.3)\r\n",
      "Processing /kaggle/input/ex-library/omegaconf-2.3.0-py3-none-any.whl (from hydra-core)\r\n",
      "Processing /kaggle/input/ex-library/antlr4-python3-runtime-4.9.3.tar.gz (from hydra-core)\r\n",
      "  Preparing metadata (setup.py) ... \u001b[?25ldone\r\n",
      "\u001b[?25hRequirement already satisfied: packaging in /opt/conda/lib/python3.10/site-packages (from hydra-core) (21.3)\r\n",
      "Requirement already satisfied: numpy in /opt/conda/lib/python3.10/site-packages (from torchvision>=0.5.0->segmentation_models_pytorch==0.3.3) (1.23.5)\r\n",
      "Requirement already satisfied: requests in /opt/conda/lib/python3.10/site-packages (from torchvision>=0.5.0->segmentation_models_pytorch==0.3.3) (2.31.0)\r\n",
      "Requirement already satisfied: pyparsing!=3.0.5,>=2.0.2 in /opt/conda/lib/python3.10/site-packages (from packaging->hydra-core) (3.0.9)\r\n",
      "Requirement already satisfied: filelock in /opt/conda/lib/python3.10/site-packages (from torch->efficientnet-pytorch==0.7.1->segmentation_models_pytorch==0.3.3) (3.12.2)\r\n",
      "Requirement already satisfied: typing-extensions in /opt/conda/lib/python3.10/site-packages (from torch->efficientnet-pytorch==0.7.1->segmentation_models_pytorch==0.3.3) (4.6.3)\r\n",
      "Requirement already satisfied: sympy in /opt/conda/lib/python3.10/site-packages (from torch->efficientnet-pytorch==0.7.1->segmentation_models_pytorch==0.3.3) (1.12)\r\n",
      "Requirement already satisfied: networkx in /opt/conda/lib/python3.10/site-packages (from torch->efficientnet-pytorch==0.7.1->segmentation_models_pytorch==0.3.3) (3.1)\r\n",
      "Requirement already satisfied: jinja2 in /opt/conda/lib/python3.10/site-packages (from torch->efficientnet-pytorch==0.7.1->segmentation_models_pytorch==0.3.3) (3.1.2)\r\n",
      "Requirement already satisfied: fsspec in /opt/conda/lib/python3.10/site-packages (from huggingface-hub->timm==0.9.2->segmentation_models_pytorch==0.3.3) (2023.9.0)\r\n",
      "Requirement already satisfied: charset-normalizer<4,>=2 in /opt/conda/lib/python3.10/site-packages (from requests->torchvision>=0.5.0->segmentation_models_pytorch==0.3.3) (3.1.0)\r\n",
      "Requirement already satisfied: idna<4,>=2.5 in /opt/conda/lib/python3.10/site-packages (from requests->torchvision>=0.5.0->segmentation_models_pytorch==0.3.3) (3.4)\r\n",
      "Requirement already satisfied: urllib3<3,>=1.21.1 in /opt/conda/lib/python3.10/site-packages (from requests->torchvision>=0.5.0->segmentation_models_pytorch==0.3.3) (1.26.15)\r\n",
      "Requirement already satisfied: certifi>=2017.4.17 in /opt/conda/lib/python3.10/site-packages (from requests->torchvision>=0.5.0->segmentation_models_pytorch==0.3.3) (2023.7.22)\r\n",
      "Requirement already satisfied: MarkupSafe>=2.0 in /opt/conda/lib/python3.10/site-packages (from jinja2->torch->efficientnet-pytorch==0.7.1->segmentation_models_pytorch==0.3.3) (2.1.3)\r\n",
      "Requirement already satisfied: mpmath>=0.19 in /opt/conda/lib/python3.10/site-packages (from sympy->torch->efficientnet-pytorch==0.7.1->segmentation_models_pytorch==0.3.3) (1.3.0)\r\n",
      "Building wheels for collected packages: efficientnet-pytorch, pretrainedmodels, antlr4-python3-runtime\r\n",
      "  Building wheel for efficientnet-pytorch (setup.py) ... \u001b[?25l-\b \bdone\r\n",
      "\u001b[?25h  Created wheel for efficientnet-pytorch: filename=efficientnet_pytorch-0.7.1-py3-none-any.whl size=16427 sha256=3730441cc1f31cc6d83bcfa27431f8f0fc7f2b69a5c75fd35949640972e8a461\r\n",
      "  Stored in directory: /root/.cache/pip/wheels/25/42/08/c312f1b741dfff3f2661c53bd056f4f9683cebbb9fe228b1a5\r\n",
      "  Building wheel for pretrainedmodels (setup.py) ... \u001b[?25l-\b \b\\\b \bdone\r\n",
      "\u001b[?25h  Created wheel for pretrainedmodels: filename=pretrainedmodels-0.7.4-py3-none-any.whl size=60945 sha256=dda598c29e7f12d68e1a6050d2880c79eecdb7feebdc134197d6e0454a9163a6\r\n",
      "  Stored in directory: /root/.cache/pip/wheels/4f/02/1f/a5cd4682c2d04e69a0c748116ed4f366e169592fdf08a72b55\r\n",
      "  Building wheel for antlr4-python3-runtime (setup.py) ... \u001b[?25l-\b \bdone\r\n",
      "\u001b[?25h  Created wheel for antlr4-python3-runtime: filename=antlr4_python3_runtime-4.9.3-py3-none-any.whl size=144554 sha256=e3381ef4a8da8dac9a785557147b18d67c7864a8690db40f45a6df52625f4805\r\n",
      "  Stored in directory: /root/.cache/pip/wheels/bf/5c/34/cdd531f2be0298fb3c66c4db6dff71ec7385fc1fd2d5d60436\r\n",
      "Successfully built efficientnet-pytorch pretrainedmodels antlr4-python3-runtime\r\n",
      "Installing collected packages: antlr4-python3-runtime, omegaconf, munch, hydra-core, efficientnet-pytorch, timm, pretrainedmodels, segmentation_models_pytorch\r\n",
      "  Attempting uninstall: timm\r\n",
      "    Found existing installation: timm 0.9.7\r\n",
      "    Uninstalling timm-0.9.7:\r\n",
      "      Successfully uninstalled timm-0.9.7\r\n",
      "Successfully installed antlr4-python3-runtime-4.9.3 efficientnet-pytorch-0.7.1 hydra-core-1.3.2 munch-4.0.0 omegaconf-2.3.0 pretrainedmodels-0.7.4 segmentation_models_pytorch-0.3.3 timm-0.9.2\r\n"
     ]
    }
   ],
   "source": [
    "!pip install hydra-core segmentation_models_pytorch==0.3.3 --no-index --find-links=/kaggle/input/ex-library"
   ]
  },
  {
   "cell_type": "code",
   "execution_count": 2,
   "id": "ace59e72",
   "metadata": {
    "execution": {
     "iopub.execute_input": "2023-11-10T17:38:26.361120Z",
     "iopub.status.busy": "2023-11-10T17:38:26.360503Z",
     "iopub.status.idle": "2023-11-10T17:38:26.369171Z",
     "shell.execute_reply": "2023-11-10T17:38:26.368045Z"
    },
    "papermill": {
     "duration": 0.018897,
     "end_time": "2023-11-10T17:38:26.371175",
     "exception": false,
     "start_time": "2023-11-10T17:38:26.352278",
     "status": "completed"
    },
    "tags": []
   },
   "outputs": [
    {
     "name": "stdout",
     "output_type": "stream",
     "text": [
      "/kaggle/input/cmi-code\n"
     ]
    }
   ],
   "source": [
    "%cd /kaggle/input/cmi-code/"
   ]
  },
  {
   "cell_type": "code",
   "execution_count": 3,
   "id": "660b67b8",
   "metadata": {
    "execution": {
     "iopub.execute_input": "2023-11-10T17:38:26.385467Z",
     "iopub.status.busy": "2023-11-10T17:38:26.385203Z",
     "iopub.status.idle": "2023-11-10T17:38:27.362544Z",
     "shell.execute_reply": "2023-11-10T17:38:27.361581Z"
    },
    "papermill": {
     "duration": 0.98691,
     "end_time": "2023-11-10T17:38:27.364759",
     "exception": false,
     "start_time": "2023-11-10T17:38:26.377849",
     "status": "completed"
    },
    "tags": []
   },
   "outputs": [
    {
     "name": "stdout",
     "output_type": "stream",
     "text": [
      "README.md  \u001b[0m\u001b[01;34mdata\u001b[0m/      pyproject.toml         requirements.lock  \u001b[01;34msrc\u001b[0m/\r\n",
      "\u001b[01;34mbin\u001b[0m/       \u001b[01;34mnotebook\u001b[0m/  requirements-dev.lock  \u001b[01;34mrun\u001b[0m/               \u001b[01;34mtools\u001b[0m/\r\n"
     ]
    }
   ],
   "source": [
    "%ls"
   ]
  },
  {
   "cell_type": "markdown",
   "id": "56653a43",
   "metadata": {
    "papermill": {
     "duration": 0.00655,
     "end_time": "2023-11-10T17:38:27.378640",
     "exception": false,
     "start_time": "2023-11-10T17:38:27.372090",
     "status": "completed"
    },
    "tags": []
   },
   "source": [
    "# Config"
   ]
  },
  {
   "cell_type": "code",
   "execution_count": 4,
   "id": "b1445e70",
   "metadata": {
    "execution": {
     "iopub.execute_input": "2023-11-10T17:38:27.393408Z",
     "iopub.status.busy": "2023-11-10T17:38:27.393094Z",
     "iopub.status.idle": "2023-11-10T17:38:27.397855Z",
     "shell.execute_reply": "2023-11-10T17:38:27.397035Z"
    },
    "papermill": {
     "duration": 0.014415,
     "end_time": "2023-11-10T17:38:27.399675",
     "exception": false,
     "start_time": "2023-11-10T17:38:27.385260",
     "status": "completed"
    },
    "tags": []
   },
   "outputs": [],
   "source": [
    "# Config\n",
    "DURATION = 5760\n",
    "DOWNSAMPLE_RATE = 2\n",
    "PHASE = 'test'\n",
    "EXP_NAME = 'exp001'"
   ]
  },
  {
   "cell_type": "markdown",
   "id": "22941614",
   "metadata": {
    "papermill": {
     "duration": 0.006792,
     "end_time": "2023-11-10T17:38:27.413106",
     "exception": false,
     "start_time": "2023-11-10T17:38:27.406314",
     "status": "completed"
    },
    "tags": []
   },
   "source": [
    "# Preprocess"
   ]
  },
  {
   "cell_type": "code",
   "execution_count": 5,
   "id": "b339a4b3",
   "metadata": {
    "execution": {
     "iopub.execute_input": "2023-11-10T17:38:27.428471Z",
     "iopub.status.busy": "2023-11-10T17:38:27.427879Z",
     "iopub.status.idle": "2023-11-10T17:38:31.128948Z",
     "shell.execute_reply": "2023-11-10T17:38:31.127841Z"
    },
    "papermill": {
     "duration": 3.711767,
     "end_time": "2023-11-10T17:38:31.131648",
     "exception": false,
     "start_time": "2023-11-10T17:38:27.419881",
     "status": "completed"
    },
    "tags": []
   },
   "outputs": [
    {
     "name": "stdout",
     "output_type": "stream",
     "text": [
      "shape: (5, 5)\r\n",
      "┌──────────────┬──────────┬───────────┬─────────────────────────┬────────────┐\r\n",
      "│ series_id    ┆ anglez   ┆ enmo      ┆ timestamp               ┆ anglez_rad │\r\n",
      "│ ---          ┆ ---      ┆ ---       ┆ ---                     ┆ ---        │\r\n",
      "│ str          ┆ f32      ┆ f32       ┆ datetime[μs, UTC]       ┆ f32        │\r\n",
      "╞══════════════╪══════════╪═══════════╪═════════════════════════╪════════════╡\r\n",
      "│ 038441c925bb ┆ 0.322257 ┆ -0.192627 ┆ 2018-08-14 19:30:00 UTC ┆ 0.046019   │\r\n",
      "│ 038441c925bb ┆ 0.32226  ┆ -0.194591 ┆ 2018-08-14 19:30:05 UTC ┆ 0.046021   │\r\n",
      "│ 038441c925bb ┆ 0.322266 ┆ -0.193609 ┆ 2018-08-14 19:30:10 UTC ┆ 0.046024   │\r\n",
      "│ 038441c925bb ┆ 0.32226  ┆ -0.196555 ┆ 2018-08-14 19:30:15 UTC ┆ 0.046021   │\r\n",
      "│ 038441c925bb ┆ 0.32226  ┆ -0.194591 ┆ 2018-08-14 19:30:20 UTC ┆ 0.046021   │\r\n",
      "└──────────────┴──────────┴───────────┴─────────────────────────┴────────────┘\r\n",
      "['series_id', 'anglez', 'enmo', 'timestamp', 'anglez_rad']\r\n",
      "[0.1GB(+0.0GB):0.3sec] Load series \r\n",
      "100%|█████████████████████████████████████████████| 3/3 [00:00<00:00, 48.04it/s]\r\n",
      "[0.1GB(+0.0GB):0.1sec] Save features \r\n"
     ]
    }
   ],
   "source": [
    "!HYDRA_FULL_ERROR=1 python -m run.prepare_data dir=kaggle phase=$PHASE"
   ]
  },
  {
   "cell_type": "markdown",
   "id": "bf38e4fb",
   "metadata": {
    "papermill": {
     "duration": 0.006919,
     "end_time": "2023-11-10T17:38:31.146512",
     "exception": false,
     "start_time": "2023-11-10T17:38:31.139593",
     "status": "completed"
    },
    "tags": []
   },
   "source": [
    "# Inference"
   ]
  },
  {
   "cell_type": "code",
   "execution_count": 6,
   "id": "0d00b29d",
   "metadata": {
    "execution": {
     "iopub.execute_input": "2023-11-10T17:38:31.161643Z",
     "iopub.status.busy": "2023-11-10T17:38:31.161356Z",
     "iopub.status.idle": "2023-11-10T17:38:31.167219Z",
     "shell.execute_reply": "2023-11-10T17:38:31.165750Z"
    },
    "papermill": {
     "duration": 0.015453,
     "end_time": "2023-11-10T17:38:31.168821",
     "exception": true,
     "start_time": "2023-11-10T17:38:31.153368",
     "status": "failed"
    },
    "tags": []
   },
   "outputs": [
    {
     "name": "stderr",
     "output_type": "stream",
     "text": [
      "UsageError: Line magic function `%export` not found.\n"
     ]
    }
   ],
   "source": [
    "%export HYDRA_FULL_ERROR=1\n"
   ]
  },
  {
   "cell_type": "code",
   "execution_count": null,
   "id": "52bdb3bd",
   "metadata": {
    "execution": {
     "iopub.execute_input": "2023-11-10T17:14:48.897705Z",
     "iopub.status.busy": "2023-11-10T17:14:48.896857Z",
     "iopub.status.idle": "2023-11-10T17:15:01.310053Z",
     "shell.execute_reply": "2023-11-10T17:15:01.308958Z",
     "shell.execute_reply.started": "2023-11-10T17:14:48.897667Z"
    },
    "papermill": {
     "duration": null,
     "end_time": null,
     "exception": null,
     "start_time": null,
     "status": "pending"
    },
    "tags": []
   },
   "outputs": [],
   "source": [
    "\n",
    "!python -m run.inference --cfg hydra dir=kaggle phase=$PHASE"
   ]
  },
  {
   "cell_type": "code",
   "execution_count": null,
   "id": "d51beb1d",
   "metadata": {
    "papermill": {
     "duration": null,
     "end_time": null,
     "exception": null,
     "start_time": null,
     "status": "pending"
    },
    "tags": []
   },
   "outputs": [],
   "source": []
  },
  {
   "cell_type": "code",
   "execution_count": null,
   "id": "eb937c2b",
   "metadata": {
    "execution": {
     "iopub.execute_input": "2023-11-10T17:36:36.828407Z",
     "iopub.status.busy": "2023-11-10T17:36:36.827444Z",
     "iopub.status.idle": "2023-11-10T17:36:55.906535Z",
     "shell.execute_reply": "2023-11-10T17:36:55.905340Z",
     "shell.execute_reply.started": "2023-11-10T17:36:36.828370Z"
    },
    "papermill": {
     "duration": null,
     "end_time": null,
     "exception": null,
     "start_time": null,
     "status": "pending"
    },
    "tags": []
   },
   "outputs": [],
   "source": [
    "!HYDRA_FULL_ERROR=1 python -m run.inference\\\n",
    "    dir=kaggle\\\n",
    "    num_workers=2\\\n",
    "    exp_name=$EXP_NAME\\\n",
    "    weight.run_name=single\\\n",
    "    batch_size=64\\\n",
    "    duration=$DURATION\\\n",
    "    downsample_rate=$DOWNSAMPLE_RATE\\\n",
    "    phase=$PHASE"
   ]
  },
  {
   "cell_type": "code",
   "execution_count": null,
   "id": "c4e55dbc",
   "metadata": {
    "papermill": {
     "duration": null,
     "end_time": null,
     "exception": null,
     "start_time": null,
     "status": "pending"
    },
    "tags": []
   },
   "outputs": [],
   "source": [
    "# いらないファイル、フォルダ削除\n",
    "!rm -rf /kaggle/working/processed_data\n",
    "!rm -rf /kaggle/working/output"
   ]
  },
  {
   "cell_type": "code",
   "execution_count": null,
   "id": "e1e1ab02",
   "metadata": {
    "papermill": {
     "duration": null,
     "end_time": null,
     "exception": null,
     "start_time": null,
     "status": "pending"
    },
    "tags": []
   },
   "outputs": [],
   "source": []
  }
 ],
 "metadata": {
  "kernelspec": {
   "display_name": "Python 3",
   "language": "python",
   "name": "python3"
  },
  "language_info": {
   "codemirror_mode": {
    "name": "ipython",
    "version": 3
   },
   "file_extension": ".py",
   "mimetype": "text/x-python",
   "name": "python",
   "nbconvert_exporter": "python",
   "pygments_lexer": "ipython3",
   "version": "3.10.12"
  },
  "papermill": {
   "default_parameters": {},
   "duration": 32.706032,
   "end_time": "2023-11-10T17:38:31.394780",
   "environment_variables": {},
   "exception": true,
   "input_path": "__notebook__.ipynb",
   "output_path": "__notebook__.ipynb",
   "parameters": {},
   "start_time": "2023-11-10T17:37:58.688748",
   "version": "2.4.0"
  }
 },
 "nbformat": 4,
 "nbformat_minor": 5
}
